{
 "cells": [
  {
   "cell_type": "markdown",
   "metadata": {},
   "source": [
    "Text is everywhere in the form of opinions, complaints, news and information; each of us contributes to generating this text throughout the internet. This large amount of text present in the unstructured format can be used for society and businesses' welfare. Commonly available text can not be directly used for analysis, it needs to be pre-processed first, and that is where NLTK, the most popular library for text processing in Python, comes into the picture.\n",
    "\n",
    "In this notebook, we will perform Exploratory data Analysis and perform visualization on tweets on stock market data. We will scrap tweets from the internet and save the tweets into CSV, and will be using the CSV to fetch the records in the panda's data frame and perform analysis and visualization on Twitter data. So, get ready to dive into Twitter Stock Market Analysis."
   ]
  },
  {
   "cell_type": "markdown",
   "metadata": {},
   "source": [
    "# Actions to be performed are:\n",
    "\n",
    "\n",
    "1. __<a href='#1' target='_self'>Import Libraries</a>__\n",
    "1. __<a href='#2' target='_self'>Fetch Tweets</a>__\n",
    "    1. __<a href='#2A' target='_self'>Using tweepy</a>__\n",
    "1. __<a href='#3' target='_self'>Saving tweets into CSV</a>__ \n",
    "    1. __<a href='#3A' target='_self'>Using CSV Module</a>__\n",
    "1. __<a href='#4' target='_self'>Text Pre-processing</a>__\n",
    "    1. __<a href='#4A' target='_self'>Pre-processing 'Key Words'</a>__\n",
    "        1. <a href='#4Aa' target='_self'>Removing '@names'</a>\n",
    "        1. <a href='#4Ab' target='_self'>Removing links (http | https)</a>\n",
    "        1. <a href='#4Ac' target='_self'>Removing tweets with empty text</a>\n",
    "        1. <a href='#4Ad' target='_self'>Dropping duplicate rows</a>\n",
    "        1. <a href='#4Ae' target='_self'>Removing Punctuations, Numbers and Special characters</a>\n",
    "        1. <a href='#4Af' target='_self'>Removing Stop words</a>\n",
    "        1. <a href='#4Ag' target='_self'>Removing words with length less than 2.</a>\n",
    "        1. <a href='#4Ah' target='_self'>Converting words to Lemma </a>\n",
    "        1. <a href='#4i' target='_self'>Joining all tokens into sentences</a>\n",
    "1. __<a href='#5' target='_self'>Story Generation and Visualization</a>__\n",
    "    1. __<a href='#5A' target='_self'>Most common words in tweets</a>__\n",
    "    1. __<a href='#5B' target='_self'>Count of Top 20 users who tweeted on the given keywords in assignment</a>__\n",
    "    1. __<a href='#5B' target='_self'>Count of daily tweets</a>__\n",
    "    1. __<a href='#5C' target='_self'>Count of daily user tweeting</a>__"
   ]
  },
  {
   "cell_type": "code",
   "execution_count": 1,
   "metadata": {},
   "outputs": [],
   "source": [
    "import os\n",
    "import tweepy as tw\n",
    "import pandas as pd\n",
    "import json\n",
    "import csv\n",
    "import re"
   ]
  },
  {
   "cell_type": "markdown",
   "metadata": {},
   "source": [
    "<h1><center>Getpass module to hide input parameters</center></h1>\n",
    "Getpass is the module in python provides the method getpass.getpass that is used in the program to enter the input without echoing the input, this way the customer_key,customer_secret,access_token and access_token_secret values will not be visible on screen and this allows us to pass the values securely. Read the python document which lead you to find this intresenting module, below is the link where you can read about this module.\n",
    "\n",
    "link:- https://docs.python.org/3/library/getpass.html"
   ]
  },
  {
   "cell_type": "code",
   "execution_count": 5,
   "metadata": {},
   "outputs": [],
   "source": [
    "import getpass\n",
    "#consumer_key = getpass.getpass(prompt='Please enter the consumer key: ', stream=None)\n",
    "#consumer_secret=getpass.getpass(prompt='Please enter the consumer secret: ', stream=None)\n",
    "#access_token=getpass.getpass(prompt='Please enter the access token: ', stream=None)\n",
    "#access_token_secret=getpass.getpass(prompt='Please enter the access token secret: ', stream=None)\n",
    "consumer_key ='jH1aF56EyC9mO4PG4khGDctQN'\n",
    "consumer_secret='a01XtxbKDINwEJWxZRDBJiYVXShnClN5PtmInr4bL6XdD5fsNN'\n",
    "access_token='168495678-eTnEuL98gxcb7ckas5WnvNuXKriqgU75GtvYBu20'\n",
    "access_token_secret='w2ofktHV0LPv9hLx66mtYtbWQA2nDiRweqBbgAEF5Ww9J'"
   ]
  },
  {
   "cell_type": "markdown",
   "metadata": {},
   "source": [
    "<h1><center>Fetching data using Tweepy and Storing it in CSV</center></h1>\n",
    "We now pass the consumer key and consumer secret in the auth api of tweepy, and pass the access token and access token secret in the auth.set_access_token api , we then invoke the twitter api with tweepy we can now search for the hashtags and pass it in the API with cursor method which will fetch us the data in json, we then call the CSV writer module in python and write the four coloumns in the CSV as timestamp,tweet_text,user_id(username) and tweet_id(id), these four fields will be extracted from the Json data and will be populated in the CSV, the tweepy API limits the rate to 3200 tweets in one API call which is the rate limit set by twitter in tweepy, we manually adjusted the date parameter which can also be adjusted by creating a function and calling that function, but we used manual process here."
   ]
  },
  {
   "cell_type": "code",
   "execution_count": 6,
   "metadata": {},
   "outputs": [],
   "source": [
    "auth = tw.OAuthHandler(consumer_key, consumer_secret)\n",
    "auth.set_access_token(access_token, access_token_secret)\n",
    "api = tw.API(auth, wait_on_rate_limit=True)"
   ]
  },
  {
   "cell_type": "code",
   "execution_count": 19,
   "metadata": {},
   "outputs": [
    {
     "name": "stdout",
     "output_type": "stream",
     "text": [
      "Please enter the word to search for: #Yahoo\n"
     ]
    }
   ],
   "source": [
    "search_words = input('Please enter the word to search for: ')"
   ]
  },
  {
   "cell_type": "code",
   "execution_count": 26,
   "metadata": {},
   "outputs": [],
   "source": [
    "csvFile = open('Yhoo2.csv', 'a')\n",
    "#Use csv Writer\n",
    "csvWriter = csv.writer(csvFile)\n",
    "#csvWriter.writerow(['timestamp', 'tweet_text', 'user_id', 'tweet_id'])\n",
    "\n",
    "for tweet in tw.Cursor(api.search,q=search_words,\n",
    "                           lang=\"en\",\n",
    "                           until='2021-02-10').items():\n",
    "    ##print (tweet.created_at, tweet.text)\n",
    "    \n",
    "    csvWriter.writerow([tweet.created_at, tweet.text.encode('utf-8'),tweet.user.screen_name.encode('utf-8'),tweet.id_str])"
   ]
  },
  {
   "cell_type": "code",
   "execution_count": 7,
   "metadata": {},
   "outputs": [],
   "source": [
    "df = pd.read_csv(r\"Yhoo2.csv\")"
   ]
  },
  {
   "cell_type": "code",
   "execution_count": 8,
   "metadata": {},
   "outputs": [
    {
     "data": {
      "text/html": [
       "<div>\n",
       "<style scoped>\n",
       "    .dataframe tbody tr th:only-of-type {\n",
       "        vertical-align: middle;\n",
       "    }\n",
       "\n",
       "    .dataframe tbody tr th {\n",
       "        vertical-align: top;\n",
       "    }\n",
       "\n",
       "    .dataframe thead th {\n",
       "        text-align: right;\n",
       "    }\n",
       "</style>\n",
       "<table border=\"1\" class=\"dataframe\">\n",
       "  <thead>\n",
       "    <tr style=\"text-align: right;\">\n",
       "      <th></th>\n",
       "      <th>timestamp</th>\n",
       "      <th>tweet_text</th>\n",
       "      <th>user_id</th>\n",
       "      <th>tweet_id</th>\n",
       "    </tr>\n",
       "  </thead>\n",
       "  <tbody>\n",
       "    <tr>\n",
       "      <td>0</td>\n",
       "      <td>3/4/2021 22:07</td>\n",
       "      <td>b'RT @davidchenpanda: Thanks Yahoo News for pl...</td>\n",
       "      <td>b'Nuker_46'</td>\n",
       "      <td>1.367600e+18</td>\n",
       "    </tr>\n",
       "    <tr>\n",
       "      <td>1</td>\n",
       "      <td>3/4/2021 21:21</td>\n",
       "      <td>b'RT @davidchenpanda: Thanks Yahoo News for pl...</td>\n",
       "      <td>b'JanusEsports'</td>\n",
       "      <td>1.367590e+18</td>\n",
       "    </tr>\n",
       "    <tr>\n",
       "      <td>2</td>\n",
       "      <td>3/4/2021 21:04</td>\n",
       "      <td>b'Thanks Yahoo News for placing me in Top 20 @...</td>\n",
       "      <td>b'davidchenpanda'</td>\n",
       "      <td>1.367580e+18</td>\n",
       "    </tr>\n",
       "    <tr>\n",
       "      <td>3</td>\n",
       "      <td>3/4/2021 20:56</td>\n",
       "      <td>b'It\\xe2\\x80\\x99s not NOT rodeo either, though...</td>\n",
       "      <td>b'ajmikesmith'</td>\n",
       "      <td>1.367580e+18</td>\n",
       "    </tr>\n",
       "    <tr>\n",
       "      <td>4</td>\n",
       "      <td>3/4/2021 20:09</td>\n",
       "      <td>b'I ain\\xe2\\x80\\x99t sorry anymore for that sh...</td>\n",
       "      <td>b'doge2mooon'</td>\n",
       "      <td>1.367570e+18</td>\n",
       "    </tr>\n",
       "  </tbody>\n",
       "</table>\n",
       "</div>"
      ],
      "text/plain": [
       "        timestamp                                         tweet_text  \\\n",
       "0  3/4/2021 22:07  b'RT @davidchenpanda: Thanks Yahoo News for pl...   \n",
       "1  3/4/2021 21:21  b'RT @davidchenpanda: Thanks Yahoo News for pl...   \n",
       "2  3/4/2021 21:04  b'Thanks Yahoo News for placing me in Top 20 @...   \n",
       "3  3/4/2021 20:56  b'It\\xe2\\x80\\x99s not NOT rodeo either, though...   \n",
       "4  3/4/2021 20:09  b'I ain\\xe2\\x80\\x99t sorry anymore for that sh...   \n",
       "\n",
       "             user_id      tweet_id  \n",
       "0        b'Nuker_46'  1.367600e+18  \n",
       "1    b'JanusEsports'  1.367590e+18  \n",
       "2  b'davidchenpanda'  1.367580e+18  \n",
       "3     b'ajmikesmith'  1.367580e+18  \n",
       "4      b'doge2mooon'  1.367570e+18  "
      ]
     },
     "execution_count": 8,
     "metadata": {},
     "output_type": "execute_result"
    }
   ],
   "source": [
    "df.head()"
   ]
  },
  {
   "cell_type": "code",
   "execution_count": 9,
   "metadata": {},
   "outputs": [
    {
     "data": {
      "text/plain": [
       "0    b'RT @davidchenpanda: Thanks Yahoo News for pl...\n",
       "1    b'RT @davidchenpanda: Thanks Yahoo News for pl...\n",
       "2    b'Thanks Yahoo News for placing me in Top 20 @...\n",
       "3    b'It\\xe2\\x80\\x99s not NOT rodeo either, though...\n",
       "4    b'I ain\\xe2\\x80\\x99t sorry anymore for that sh...\n",
       "5    b'Git Along, Lil\\xe2\\x80\\x99 DOGE! Dallas Mavs...\n",
       "6    b'For your fantasy sports leagues this year, c...\n",
       "7    b'RT @AMWebSchool: Most visited websites globa...\n",
       "8    b'Most visited websites globally\\n\\n10. #Amazo...\n",
       "9    b\"RT @orion_protocol: ORION'S MONTHLY ROUND UP...\n",
       "Name: tweet_text, dtype: object"
      ]
     },
     "execution_count": 9,
     "metadata": {},
     "output_type": "execute_result"
    }
   ],
   "source": [
    "df['tweet_text'].head(n=10)"
   ]
  },
  {
   "cell_type": "code",
   "execution_count": 10,
   "metadata": {},
   "outputs": [
    {
     "data": {
      "text/plain": [
       "(289, 4)"
      ]
     },
     "execution_count": 10,
     "metadata": {},
     "output_type": "execute_result"
    }
   ],
   "source": [
    "df.shape"
   ]
  },
  {
   "cell_type": "markdown",
   "metadata": {},
   "source": [
    "<h1><center>Dropping duplicate rows in tweet_text</center></h1>\n",
    "\n",
    "We now dropped the duplicate rows in the tweet_text, to get all the unique tweets in last 7 days."
   ]
  },
  {
   "cell_type": "code",
   "execution_count": 11,
   "metadata": {},
   "outputs": [],
   "source": [
    "df.drop_duplicates(subset='tweet_text',inplace=True)"
   ]
  },
  {
   "cell_type": "code",
   "execution_count": 12,
   "metadata": {},
   "outputs": [
    {
     "data": {
      "text/plain": [
       "(107, 4)"
      ]
     },
     "execution_count": 12,
     "metadata": {},
     "output_type": "execute_result"
    }
   ],
   "source": [
    "df.shape"
   ]
  },
  {
   "cell_type": "markdown",
   "metadata": {},
   "source": [
    "<h1><center>Text preporcessing</center></h1>\n",
    "\n",
    "We will start cleaning our data, we first extratcted all the hashtags in column hastag, we then imported the nltk module to clean the data the following steps are performed in this:-\n",
    "1. __<a href='#1' target='_self'>Removing puntuations</a>__\n",
    "1. __<a href='#1' target='_self'>Removing numbers</a>__\n",
    "1. __<a href='#1' target='_self'>Removing @names</a>__\n",
    "1. __<a href='#1' target='_self'>Removing words less than 2</a>__\n",
    "1. __<a href='#1' target='_self'>Removing links (http|https)</a>__\n",
    "1. __<a href='#1' target='_self'>Stemming words</a>__\n",
    "1. __<a href='#1' target='_self'>Using Stopwords and adding custom Stopwords</a>__"
   ]
  },
  {
   "cell_type": "code",
   "execution_count": 13,
   "metadata": {},
   "outputs": [
    {
     "data": {
      "text/html": [
       "<div>\n",
       "<style scoped>\n",
       "    .dataframe tbody tr th:only-of-type {\n",
       "        vertical-align: middle;\n",
       "    }\n",
       "\n",
       "    .dataframe tbody tr th {\n",
       "        vertical-align: top;\n",
       "    }\n",
       "\n",
       "    .dataframe thead th {\n",
       "        text-align: right;\n",
       "    }\n",
       "</style>\n",
       "<table border=\"1\" class=\"dataframe\">\n",
       "  <thead>\n",
       "    <tr style=\"text-align: right;\">\n",
       "      <th></th>\n",
       "      <th>timestamp</th>\n",
       "      <th>tweet_text</th>\n",
       "      <th>user_id</th>\n",
       "      <th>tweet_id</th>\n",
       "      <th>hashtag</th>\n",
       "    </tr>\n",
       "  </thead>\n",
       "  <tbody>\n",
       "    <tr>\n",
       "      <td>0</td>\n",
       "      <td>3/4/2021 22:07</td>\n",
       "      <td>b'RT @davidchenpanda: Thanks Yahoo News for pl...</td>\n",
       "      <td>b'Nuker_46'</td>\n",
       "      <td>1.367600e+18</td>\n",
       "      <td>[]</td>\n",
       "    </tr>\n",
       "    <tr>\n",
       "      <td>2</td>\n",
       "      <td>3/4/2021 21:04</td>\n",
       "      <td>b'Thanks Yahoo News for placing me in Top 20 @...</td>\n",
       "      <td>b'davidchenpanda'</td>\n",
       "      <td>1.367580e+18</td>\n",
       "      <td>[]</td>\n",
       "    </tr>\n",
       "    <tr>\n",
       "      <td>3</td>\n",
       "      <td>3/4/2021 20:56</td>\n",
       "      <td>b'It\\xe2\\x80\\x99s not NOT rodeo either, though...</td>\n",
       "      <td>b'ajmikesmith'</td>\n",
       "      <td>1.367580e+18</td>\n",
       "      <td>[Yahoo]</td>\n",
       "    </tr>\n",
       "    <tr>\n",
       "      <td>4</td>\n",
       "      <td>3/4/2021 20:09</td>\n",
       "      <td>b'I ain\\xe2\\x80\\x99t sorry anymore for that sh...</td>\n",
       "      <td>b'doge2mooon'</td>\n",
       "      <td>1.367570e+18</td>\n",
       "      <td>[yahoo]</td>\n",
       "    </tr>\n",
       "    <tr>\n",
       "      <td>5</td>\n",
       "      <td>3/4/2021 19:19</td>\n",
       "      <td>b'Git Along, Lil\\xe2\\x80\\x99 DOGE! Dallas Mavs...</td>\n",
       "      <td>b'Patsoup78'</td>\n",
       "      <td>1.367560e+18</td>\n",
       "      <td>[]</td>\n",
       "    </tr>\n",
       "    <tr>\n",
       "      <td>6</td>\n",
       "      <td>3/4/2021 17:20</td>\n",
       "      <td>b'For your fantasy sports leagues this year, c...</td>\n",
       "      <td>b'BenSMeyers'</td>\n",
       "      <td>1.367530e+18</td>\n",
       "      <td>[]</td>\n",
       "    </tr>\n",
       "    <tr>\n",
       "      <td>7</td>\n",
       "      <td>3/4/2021 17:14</td>\n",
       "      <td>b'RT @AMWebSchool: Most visited websites globa...</td>\n",
       "      <td>b'EtsyGrowth'</td>\n",
       "      <td>1.367520e+18</td>\n",
       "      <td>[Amazon, Yahoo, Taobao, Tmall, QQ]</td>\n",
       "    </tr>\n",
       "    <tr>\n",
       "      <td>8</td>\n",
       "      <td>3/4/2021 17:13</td>\n",
       "      <td>b'Most visited websites globally\\n\\n10. #Amazo...</td>\n",
       "      <td>b'AMWebSchool'</td>\n",
       "      <td>1.367520e+18</td>\n",
       "      <td>[Amazon, Yahoo, Taobao, Tmall]</td>\n",
       "    </tr>\n",
       "    <tr>\n",
       "      <td>9</td>\n",
       "      <td>3/4/2021 15:54</td>\n",
       "      <td>b\"RT @orion_protocol: ORION'S MONTHLY ROUND UP...</td>\n",
       "      <td>b'Diego_Sisneros'</td>\n",
       "      <td>1.367500e+18</td>\n",
       "      <td>[]</td>\n",
       "    </tr>\n",
       "    <tr>\n",
       "      <td>10</td>\n",
       "      <td>3/4/2021 14:56</td>\n",
       "      <td>b'@aditiraval This tweet remind me of #Yahoo r...</td>\n",
       "      <td>b'mojilo_manas'</td>\n",
       "      <td>1.367490e+18</td>\n",
       "      <td>[Yahoo]</td>\n",
       "    </tr>\n",
       "  </tbody>\n",
       "</table>\n",
       "</div>"
      ],
      "text/plain": [
       "         timestamp                                         tweet_text  \\\n",
       "0   3/4/2021 22:07  b'RT @davidchenpanda: Thanks Yahoo News for pl...   \n",
       "2   3/4/2021 21:04  b'Thanks Yahoo News for placing me in Top 20 @...   \n",
       "3   3/4/2021 20:56  b'It\\xe2\\x80\\x99s not NOT rodeo either, though...   \n",
       "4   3/4/2021 20:09  b'I ain\\xe2\\x80\\x99t sorry anymore for that sh...   \n",
       "5   3/4/2021 19:19  b'Git Along, Lil\\xe2\\x80\\x99 DOGE! Dallas Mavs...   \n",
       "6   3/4/2021 17:20  b'For your fantasy sports leagues this year, c...   \n",
       "7   3/4/2021 17:14  b'RT @AMWebSchool: Most visited websites globa...   \n",
       "8   3/4/2021 17:13  b'Most visited websites globally\\n\\n10. #Amazo...   \n",
       "9   3/4/2021 15:54  b\"RT @orion_protocol: ORION'S MONTHLY ROUND UP...   \n",
       "10  3/4/2021 14:56  b'@aditiraval This tweet remind me of #Yahoo r...   \n",
       "\n",
       "              user_id      tweet_id                             hashtag  \n",
       "0         b'Nuker_46'  1.367600e+18                                  []  \n",
       "2   b'davidchenpanda'  1.367580e+18                                  []  \n",
       "3      b'ajmikesmith'  1.367580e+18                             [Yahoo]  \n",
       "4       b'doge2mooon'  1.367570e+18                             [yahoo]  \n",
       "5        b'Patsoup78'  1.367560e+18                                  []  \n",
       "6       b'BenSMeyers'  1.367530e+18                                  []  \n",
       "7       b'EtsyGrowth'  1.367520e+18  [Amazon, Yahoo, Taobao, Tmall, QQ]  \n",
       "8      b'AMWebSchool'  1.367520e+18      [Amazon, Yahoo, Taobao, Tmall]  \n",
       "9   b'Diego_Sisneros'  1.367500e+18                                  []  \n",
       "10    b'mojilo_manas'  1.367490e+18                             [Yahoo]  "
      ]
     },
     "execution_count": 13,
     "metadata": {},
     "output_type": "execute_result"
    }
   ],
   "source": [
    "df['hashtag'] = df['tweet_text'].apply(lambda x: re.findall(r\"#(\\w+)\", x))\n",
    "\n",
    "df.head(n=10)"
   ]
  },
  {
   "cell_type": "code",
   "execution_count": 14,
   "metadata": {},
   "outputs": [],
   "source": [
    "from nltk.corpus import stopwords"
   ]
  },
  {
   "cell_type": "code",
   "execution_count": 15,
   "metadata": {},
   "outputs": [],
   "source": [
    "extra_stop = ['rt','rts','retweet','b']\n",
    "excluded_words = set().union(stopwords.words('english'),extra_stop)"
   ]
  },
  {
   "cell_type": "code",
   "execution_count": 16,
   "metadata": {},
   "outputs": [
    {
     "data": {
      "text/plain": [
       "{'a',\n",
       " 'about',\n",
       " 'above',\n",
       " 'after',\n",
       " 'again',\n",
       " 'against',\n",
       " 'ain',\n",
       " 'all',\n",
       " 'am',\n",
       " 'an',\n",
       " 'and',\n",
       " 'any',\n",
       " 'are',\n",
       " 'aren',\n",
       " \"aren't\",\n",
       " 'as',\n",
       " 'at',\n",
       " 'b',\n",
       " 'be',\n",
       " 'because',\n",
       " 'been',\n",
       " 'before',\n",
       " 'being',\n",
       " 'below',\n",
       " 'between',\n",
       " 'both',\n",
       " 'but',\n",
       " 'by',\n",
       " 'can',\n",
       " 'couldn',\n",
       " \"couldn't\",\n",
       " 'd',\n",
       " 'did',\n",
       " 'didn',\n",
       " \"didn't\",\n",
       " 'do',\n",
       " 'does',\n",
       " 'doesn',\n",
       " \"doesn't\",\n",
       " 'doing',\n",
       " 'don',\n",
       " \"don't\",\n",
       " 'down',\n",
       " 'during',\n",
       " 'each',\n",
       " 'few',\n",
       " 'for',\n",
       " 'from',\n",
       " 'further',\n",
       " 'had',\n",
       " 'hadn',\n",
       " \"hadn't\",\n",
       " 'has',\n",
       " 'hasn',\n",
       " \"hasn't\",\n",
       " 'have',\n",
       " 'haven',\n",
       " \"haven't\",\n",
       " 'having',\n",
       " 'he',\n",
       " 'her',\n",
       " 'here',\n",
       " 'hers',\n",
       " 'herself',\n",
       " 'him',\n",
       " 'himself',\n",
       " 'his',\n",
       " 'how',\n",
       " 'i',\n",
       " 'if',\n",
       " 'in',\n",
       " 'into',\n",
       " 'is',\n",
       " 'isn',\n",
       " \"isn't\",\n",
       " 'it',\n",
       " \"it's\",\n",
       " 'its',\n",
       " 'itself',\n",
       " 'just',\n",
       " 'll',\n",
       " 'm',\n",
       " 'ma',\n",
       " 'me',\n",
       " 'mightn',\n",
       " \"mightn't\",\n",
       " 'more',\n",
       " 'most',\n",
       " 'mustn',\n",
       " \"mustn't\",\n",
       " 'my',\n",
       " 'myself',\n",
       " 'needn',\n",
       " \"needn't\",\n",
       " 'no',\n",
       " 'nor',\n",
       " 'not',\n",
       " 'now',\n",
       " 'o',\n",
       " 'of',\n",
       " 'off',\n",
       " 'on',\n",
       " 'once',\n",
       " 'only',\n",
       " 'or',\n",
       " 'other',\n",
       " 'our',\n",
       " 'ours',\n",
       " 'ourselves',\n",
       " 'out',\n",
       " 'over',\n",
       " 'own',\n",
       " 're',\n",
       " 'retweet',\n",
       " 'rt',\n",
       " 'rts',\n",
       " 's',\n",
       " 'same',\n",
       " 'shan',\n",
       " \"shan't\",\n",
       " 'she',\n",
       " \"she's\",\n",
       " 'should',\n",
       " \"should've\",\n",
       " 'shouldn',\n",
       " \"shouldn't\",\n",
       " 'so',\n",
       " 'some',\n",
       " 'such',\n",
       " 't',\n",
       " 'than',\n",
       " 'that',\n",
       " \"that'll\",\n",
       " 'the',\n",
       " 'their',\n",
       " 'theirs',\n",
       " 'them',\n",
       " 'themselves',\n",
       " 'then',\n",
       " 'there',\n",
       " 'these',\n",
       " 'they',\n",
       " 'this',\n",
       " 'those',\n",
       " 'through',\n",
       " 'to',\n",
       " 'too',\n",
       " 'under',\n",
       " 'until',\n",
       " 'up',\n",
       " 've',\n",
       " 'very',\n",
       " 'was',\n",
       " 'wasn',\n",
       " \"wasn't\",\n",
       " 'we',\n",
       " 'were',\n",
       " 'weren',\n",
       " \"weren't\",\n",
       " 'what',\n",
       " 'when',\n",
       " 'where',\n",
       " 'which',\n",
       " 'while',\n",
       " 'who',\n",
       " 'whom',\n",
       " 'why',\n",
       " 'will',\n",
       " 'with',\n",
       " 'won',\n",
       " \"won't\",\n",
       " 'wouldn',\n",
       " \"wouldn't\",\n",
       " 'y',\n",
       " 'you',\n",
       " \"you'd\",\n",
       " \"you'll\",\n",
       " \"you're\",\n",
       " \"you've\",\n",
       " 'your',\n",
       " 'yours',\n",
       " 'yourself',\n",
       " 'yourselves'}"
      ]
     },
     "execution_count": 16,
     "metadata": {},
     "output_type": "execute_result"
    }
   ],
   "source": [
    "excluded_words"
   ]
  },
  {
   "cell_type": "code",
   "execution_count": 17,
   "metadata": {},
   "outputs": [],
   "source": [
    "df['cleaned_tweet_text'] = df['tweet_text'].str.lower()\\\n",
    "          .str.replace('(@[a-z0-9]+)\\w+',' ')\\\n",
    "          .str.replace('(http\\S+)', ' ')\\\n",
    "          .str.replace('([^0-9a-z \\t])',' ')\\\n",
    "          .str.replace(' +',' ')\\\n",
    "          .str.replace('rt','')"
   ]
  },
  {
   "cell_type": "code",
   "execution_count": 21,
   "metadata": {},
   "outputs": [
    {
     "data": {
      "text/plain": [
       "0     b  thanks yahoo news for placing me in top 20 ...\n",
       "2     b thanks yahoo news for placing me in top 20 a...\n",
       "3     b it xe2 x80 x99s not not rodeo either though ...\n",
       "4     b i ain xe2 x80 x99t sorry anymore for that sh...\n",
       "5     b git along lil xe2 x80 x99 doge dallas mavs t...\n",
       "6     b for your fantasy spos leagues this year cons...\n",
       "7     b  most visited websites globally n n10 amazon...\n",
       "8     b most visited websites globally n n10 amazon ...\n",
       "9     b  orion s monthly round up xf0 x9f x9a x80 n ...\n",
       "10    b this tweet remind me of yahoo rooms xf0 x9f ...\n",
       "Name: cleaned_tweet_text, dtype: object"
      ]
     },
     "execution_count": 21,
     "metadata": {},
     "output_type": "execute_result"
    }
   ],
   "source": [
    "df.cleaned_tweet_text.head(n=10)"
   ]
  },
  {
   "cell_type": "code",
   "execution_count": 19,
   "metadata": {},
   "outputs": [],
   "source": [
    "df['cleaned_tweet_text_excluded_words'] =  df['tweet_text'].str.lower()\\\n",
    "          .str.replace('(@[a-z0-9]+)\\w+',' ')\\\n",
    "          .str.replace('(http\\S+)', ' ')\\\n",
    "          .str.replace('([^0-9a-z \\t])',' ')\\\n",
    "          .str.replace(' +',' ')\\\n",
    "          .apply(lambda x: [i for i in x.split() if not i in excluded_words])"
   ]
  },
  {
   "cell_type": "code",
   "execution_count": 20,
   "metadata": {},
   "outputs": [
    {
     "data": {
      "text/plain": [
       "0     [thanks, yahoo, news, placing, top, 20, accoun...\n",
       "2     [thanks, yahoo, news, placing, top, 20, accoun...\n",
       "3        [xe2, x80, x99s, rodeo, either, though, yahoo]\n",
       "4     [xe2, x80, x99t, sorry, anymore, shitty, compa...\n",
       "5     [git, along, lil, xe2, x80, x99, doge, dallas,...\n",
       "6     [fantasy, sports, leagues, year, consider, don...\n",
       "7     [visited, websites, globally, n, n10, amazon, ...\n",
       "8     [visited, websites, globally, n, n10, amazon, ...\n",
       "9     [orion, monthly, round, xf0, x9f, x9a, x80, n,...\n",
       "10    [tweet, remind, yahoo, rooms, xf0, x9f, x98, x82]\n",
       "Name: cleaned_tweet_text_excluded_words, dtype: object"
      ]
     },
     "execution_count": 20,
     "metadata": {},
     "output_type": "execute_result"
    }
   ],
   "source": [
    "df.cleaned_tweet_text_excluded_words.head(n=10)"
   ]
  },
  {
   "cell_type": "code",
   "execution_count": 22,
   "metadata": {},
   "outputs": [],
   "source": [
    "from nltk.stem import PorterStemmer"
   ]
  },
  {
   "cell_type": "code",
   "execution_count": 23,
   "metadata": {},
   "outputs": [],
   "source": [
    "stemmer = PorterStemmer()\n",
    "df['stemmed_data'] = df['cleaned_tweet_text_excluded_words'].apply(lambda x: [stemmer.stem(i) for i in x if i != ''])"
   ]
  },
  {
   "cell_type": "code",
   "execution_count": 24,
   "metadata": {},
   "outputs": [
    {
     "data": {
      "text/plain": [
       "0     [thank, yahoo, news, place, top, 20, account, ...\n",
       "2     [thank, yahoo, news, place, top, 20, account, ...\n",
       "3         [xe2, x80, x99, rodeo, either, though, yahoo]\n",
       "4     [xe2, x80, x99t, sorri, anymor, shitti, compan...\n",
       "5     [git, along, lil, xe2, x80, x99, doge, dalla, ...\n",
       "6     [fantasi, sport, leagu, year, consid, donat, p...\n",
       "7     [visit, websit, global, n, n10, amazon, n9, ya...\n",
       "8     [visit, websit, global, n, n10, amazon, n9, ya...\n",
       "9     [orion, monthli, round, xf0, x9f, x9a, x80, n,...\n",
       "10     [tweet, remind, yahoo, room, xf0, x9f, x98, x82]\n",
       "Name: stemmed_data, dtype: object"
      ]
     },
     "execution_count": 24,
     "metadata": {},
     "output_type": "execute_result"
    }
   ],
   "source": [
    "df['stemmed_data'].head(n=10)"
   ]
  },
  {
   "cell_type": "code",
   "execution_count": 25,
   "metadata": {},
   "outputs": [
    {
     "data": {
      "text/html": [
       "<div>\n",
       "<style scoped>\n",
       "    .dataframe tbody tr th:only-of-type {\n",
       "        vertical-align: middle;\n",
       "    }\n",
       "\n",
       "    .dataframe tbody tr th {\n",
       "        vertical-align: top;\n",
       "    }\n",
       "\n",
       "    .dataframe thead th {\n",
       "        text-align: right;\n",
       "    }\n",
       "</style>\n",
       "<table border=\"1\" class=\"dataframe\">\n",
       "  <thead>\n",
       "    <tr style=\"text-align: right;\">\n",
       "      <th></th>\n",
       "      <th>timestamp</th>\n",
       "      <th>tweet_text</th>\n",
       "      <th>user_id</th>\n",
       "      <th>tweet_id</th>\n",
       "      <th>hashtag</th>\n",
       "      <th>cleaned_tweet_text</th>\n",
       "      <th>cleaned_tweet_text_excluded_words</th>\n",
       "      <th>stemmed_data</th>\n",
       "    </tr>\n",
       "  </thead>\n",
       "  <tbody>\n",
       "    <tr>\n",
       "      <td>0</td>\n",
       "      <td>3/4/2021 22:07</td>\n",
       "      <td>b'RT @davidchenpanda: Thanks Yahoo News for pl...</td>\n",
       "      <td>b'Nuker_46'</td>\n",
       "      <td>1.367600e+18</td>\n",
       "      <td>[]</td>\n",
       "      <td>b  thanks yahoo news for placing me in top 20 ...</td>\n",
       "      <td>[thanks, yahoo, news, placing, top, 20, accoun...</td>\n",
       "      <td>[thank, yahoo, news, place, top, 20, account, ...</td>\n",
       "    </tr>\n",
       "    <tr>\n",
       "      <td>2</td>\n",
       "      <td>3/4/2021 21:04</td>\n",
       "      <td>b'Thanks Yahoo News for placing me in Top 20 @...</td>\n",
       "      <td>b'davidchenpanda'</td>\n",
       "      <td>1.367580e+18</td>\n",
       "      <td>[]</td>\n",
       "      <td>b thanks yahoo news for placing me in top 20 a...</td>\n",
       "      <td>[thanks, yahoo, news, placing, top, 20, accoun...</td>\n",
       "      <td>[thank, yahoo, news, place, top, 20, account, ...</td>\n",
       "    </tr>\n",
       "    <tr>\n",
       "      <td>3</td>\n",
       "      <td>3/4/2021 20:56</td>\n",
       "      <td>b'It\\xe2\\x80\\x99s not NOT rodeo either, though...</td>\n",
       "      <td>b'ajmikesmith'</td>\n",
       "      <td>1.367580e+18</td>\n",
       "      <td>[Yahoo]</td>\n",
       "      <td>b it xe2 x80 x99s not not rodeo either though ...</td>\n",
       "      <td>[xe2, x80, x99s, rodeo, either, though, yahoo]</td>\n",
       "      <td>[xe2, x80, x99, rodeo, either, though, yahoo]</td>\n",
       "    </tr>\n",
       "    <tr>\n",
       "      <td>4</td>\n",
       "      <td>3/4/2021 20:09</td>\n",
       "      <td>b'I ain\\xe2\\x80\\x99t sorry anymore for that sh...</td>\n",
       "      <td>b'doge2mooon'</td>\n",
       "      <td>1.367570e+18</td>\n",
       "      <td>[yahoo]</td>\n",
       "      <td>b i ain xe2 x80 x99t sorry anymore for that sh...</td>\n",
       "      <td>[xe2, x80, x99t, sorry, anymore, shitty, compa...</td>\n",
       "      <td>[xe2, x80, x99t, sorri, anymor, shitti, compan...</td>\n",
       "    </tr>\n",
       "    <tr>\n",
       "      <td>5</td>\n",
       "      <td>3/4/2021 19:19</td>\n",
       "      <td>b'Git Along, Lil\\xe2\\x80\\x99 DOGE! Dallas Mavs...</td>\n",
       "      <td>b'Patsoup78'</td>\n",
       "      <td>1.367560e+18</td>\n",
       "      <td>[]</td>\n",
       "      <td>b git along lil xe2 x80 x99 doge dallas mavs t...</td>\n",
       "      <td>[git, along, lil, xe2, x80, x99, doge, dallas,...</td>\n",
       "      <td>[git, along, lil, xe2, x80, x99, doge, dalla, ...</td>\n",
       "    </tr>\n",
       "    <tr>\n",
       "      <td>6</td>\n",
       "      <td>3/4/2021 17:20</td>\n",
       "      <td>b'For your fantasy sports leagues this year, c...</td>\n",
       "      <td>b'BenSMeyers'</td>\n",
       "      <td>1.367530e+18</td>\n",
       "      <td>[]</td>\n",
       "      <td>b for your fantasy spos leagues this year cons...</td>\n",
       "      <td>[fantasy, sports, leagues, year, consider, don...</td>\n",
       "      <td>[fantasi, sport, leagu, year, consid, donat, p...</td>\n",
       "    </tr>\n",
       "    <tr>\n",
       "      <td>7</td>\n",
       "      <td>3/4/2021 17:14</td>\n",
       "      <td>b'RT @AMWebSchool: Most visited websites globa...</td>\n",
       "      <td>b'EtsyGrowth'</td>\n",
       "      <td>1.367520e+18</td>\n",
       "      <td>[Amazon, Yahoo, Taobao, Tmall, QQ]</td>\n",
       "      <td>b  most visited websites globally n n10 amazon...</td>\n",
       "      <td>[visited, websites, globally, n, n10, amazon, ...</td>\n",
       "      <td>[visit, websit, global, n, n10, amazon, n9, ya...</td>\n",
       "    </tr>\n",
       "    <tr>\n",
       "      <td>8</td>\n",
       "      <td>3/4/2021 17:13</td>\n",
       "      <td>b'Most visited websites globally\\n\\n10. #Amazo...</td>\n",
       "      <td>b'AMWebSchool'</td>\n",
       "      <td>1.367520e+18</td>\n",
       "      <td>[Amazon, Yahoo, Taobao, Tmall]</td>\n",
       "      <td>b most visited websites globally n n10 amazon ...</td>\n",
       "      <td>[visited, websites, globally, n, n10, amazon, ...</td>\n",
       "      <td>[visit, websit, global, n, n10, amazon, n9, ya...</td>\n",
       "    </tr>\n",
       "    <tr>\n",
       "      <td>9</td>\n",
       "      <td>3/4/2021 15:54</td>\n",
       "      <td>b\"RT @orion_protocol: ORION'S MONTHLY ROUND UP...</td>\n",
       "      <td>b'Diego_Sisneros'</td>\n",
       "      <td>1.367500e+18</td>\n",
       "      <td>[]</td>\n",
       "      <td>b  orion s monthly round up xf0 x9f x9a x80 n ...</td>\n",
       "      <td>[orion, monthly, round, xf0, x9f, x9a, x80, n,...</td>\n",
       "      <td>[orion, monthli, round, xf0, x9f, x9a, x80, n,...</td>\n",
       "    </tr>\n",
       "    <tr>\n",
       "      <td>10</td>\n",
       "      <td>3/4/2021 14:56</td>\n",
       "      <td>b'@aditiraval This tweet remind me of #Yahoo r...</td>\n",
       "      <td>b'mojilo_manas'</td>\n",
       "      <td>1.367490e+18</td>\n",
       "      <td>[Yahoo]</td>\n",
       "      <td>b this tweet remind me of yahoo rooms xf0 x9f ...</td>\n",
       "      <td>[tweet, remind, yahoo, rooms, xf0, x9f, x98, x82]</td>\n",
       "      <td>[tweet, remind, yahoo, room, xf0, x9f, x98, x82]</td>\n",
       "    </tr>\n",
       "  </tbody>\n",
       "</table>\n",
       "</div>"
      ],
      "text/plain": [
       "         timestamp                                         tweet_text  \\\n",
       "0   3/4/2021 22:07  b'RT @davidchenpanda: Thanks Yahoo News for pl...   \n",
       "2   3/4/2021 21:04  b'Thanks Yahoo News for placing me in Top 20 @...   \n",
       "3   3/4/2021 20:56  b'It\\xe2\\x80\\x99s not NOT rodeo either, though...   \n",
       "4   3/4/2021 20:09  b'I ain\\xe2\\x80\\x99t sorry anymore for that sh...   \n",
       "5   3/4/2021 19:19  b'Git Along, Lil\\xe2\\x80\\x99 DOGE! Dallas Mavs...   \n",
       "6   3/4/2021 17:20  b'For your fantasy sports leagues this year, c...   \n",
       "7   3/4/2021 17:14  b'RT @AMWebSchool: Most visited websites globa...   \n",
       "8   3/4/2021 17:13  b'Most visited websites globally\\n\\n10. #Amazo...   \n",
       "9   3/4/2021 15:54  b\"RT @orion_protocol: ORION'S MONTHLY ROUND UP...   \n",
       "10  3/4/2021 14:56  b'@aditiraval This tweet remind me of #Yahoo r...   \n",
       "\n",
       "              user_id      tweet_id                             hashtag  \\\n",
       "0         b'Nuker_46'  1.367600e+18                                  []   \n",
       "2   b'davidchenpanda'  1.367580e+18                                  []   \n",
       "3      b'ajmikesmith'  1.367580e+18                             [Yahoo]   \n",
       "4       b'doge2mooon'  1.367570e+18                             [yahoo]   \n",
       "5        b'Patsoup78'  1.367560e+18                                  []   \n",
       "6       b'BenSMeyers'  1.367530e+18                                  []   \n",
       "7       b'EtsyGrowth'  1.367520e+18  [Amazon, Yahoo, Taobao, Tmall, QQ]   \n",
       "8      b'AMWebSchool'  1.367520e+18      [Amazon, Yahoo, Taobao, Tmall]   \n",
       "9   b'Diego_Sisneros'  1.367500e+18                                  []   \n",
       "10    b'mojilo_manas'  1.367490e+18                             [Yahoo]   \n",
       "\n",
       "                                   cleaned_tweet_text  \\\n",
       "0   b  thanks yahoo news for placing me in top 20 ...   \n",
       "2   b thanks yahoo news for placing me in top 20 a...   \n",
       "3   b it xe2 x80 x99s not not rodeo either though ...   \n",
       "4   b i ain xe2 x80 x99t sorry anymore for that sh...   \n",
       "5   b git along lil xe2 x80 x99 doge dallas mavs t...   \n",
       "6   b for your fantasy spos leagues this year cons...   \n",
       "7   b  most visited websites globally n n10 amazon...   \n",
       "8   b most visited websites globally n n10 amazon ...   \n",
       "9   b  orion s monthly round up xf0 x9f x9a x80 n ...   \n",
       "10  b this tweet remind me of yahoo rooms xf0 x9f ...   \n",
       "\n",
       "                    cleaned_tweet_text_excluded_words  \\\n",
       "0   [thanks, yahoo, news, placing, top, 20, accoun...   \n",
       "2   [thanks, yahoo, news, placing, top, 20, accoun...   \n",
       "3      [xe2, x80, x99s, rodeo, either, though, yahoo]   \n",
       "4   [xe2, x80, x99t, sorry, anymore, shitty, compa...   \n",
       "5   [git, along, lil, xe2, x80, x99, doge, dallas,...   \n",
       "6   [fantasy, sports, leagues, year, consider, don...   \n",
       "7   [visited, websites, globally, n, n10, amazon, ...   \n",
       "8   [visited, websites, globally, n, n10, amazon, ...   \n",
       "9   [orion, monthly, round, xf0, x9f, x9a, x80, n,...   \n",
       "10  [tweet, remind, yahoo, rooms, xf0, x9f, x98, x82]   \n",
       "\n",
       "                                         stemmed_data  \n",
       "0   [thank, yahoo, news, place, top, 20, account, ...  \n",
       "2   [thank, yahoo, news, place, top, 20, account, ...  \n",
       "3       [xe2, x80, x99, rodeo, either, though, yahoo]  \n",
       "4   [xe2, x80, x99t, sorri, anymor, shitti, compan...  \n",
       "5   [git, along, lil, xe2, x80, x99, doge, dalla, ...  \n",
       "6   [fantasi, sport, leagu, year, consid, donat, p...  \n",
       "7   [visit, websit, global, n, n10, amazon, n9, ya...  \n",
       "8   [visit, websit, global, n, n10, amazon, n9, ya...  \n",
       "9   [orion, monthli, round, xf0, x9f, x9a, x80, n,...  \n",
       "10   [tweet, remind, yahoo, room, xf0, x9f, x98, x82]  "
      ]
     },
     "execution_count": 25,
     "metadata": {},
     "output_type": "execute_result"
    }
   ],
   "source": [
    "df.head(n=10)"
   ]
  },
  {
   "cell_type": "markdown",
   "metadata": {},
   "source": [
    "<h1><center>Visualizing common words with word cloud</center></h1>\n",
    "\n",
    "In this we have imported the wordcloud module which is a technique for displaying text data that shows the frequency or importance of each word's size. Significant text data points can be highlighted using a word cloud. Word clouds are widely used to analyze data from social network websites."
   ]
  },
  {
   "cell_type": "code",
   "execution_count": 26,
   "metadata": {},
   "outputs": [
    {
     "data": {
      "image/png": "[encoded data removed]",
      "text/plain": [
       "<Figure size 1440x720 with 1 Axes>"
      ]
     },
     "metadata": {},
     "output_type": "display_data"
    }
   ],
   "source": [
    "from wordcloud import WordCloud, STOPWORDS\n",
    "import matplotlib.pyplot as plt\n",
    "import matplotlib\n",
    "import seaborn as sns\n",
    "from IPython.display import display\n",
    "\n",
    "def wordcloud(df,col):\n",
    "    stopwords = set(STOPWORDS)\n",
    "    wordcloud = WordCloud(background_color=\"white\",stopwords=stopwords,random_state = 2016).generate(\" \".join([i for i in df[col]]))\n",
    "    plt.figure( figsize=(20,10), facecolor='k')\n",
    "    plt.imshow(wordcloud)\n",
    "    plt.axis(\"off\")\n",
    "    plt.title(\"Most common words\")\n",
    "wordcloud(df,'cleaned_tweet_text')"
   ]
  },
  {
   "cell_type": "markdown",
   "metadata": {},
   "source": [
    "<h1><center>Cleaning the username and visualizing the top 20 users who tweeted</center></h1>\n",
    "\n",
    "We cleaned the usernames in the dataframe and then used the pandas groupby method to get the count of the users who tweeted about the hashtag in the last 7 days and sort the users in descending order to better visualize the data, this allowed us to visualize the top 20 users who tweeted on twitter about the hashtag realted to stock market.We the plotted the top 20 users and created a bar graph to visualize the top 20 users."
   ]
  },
  {
   "cell_type": "code",
   "execution_count": 27,
   "metadata": {},
   "outputs": [],
   "source": [
    "df['cleaned_user_id'] = df['user_id'].str.replace(\"\"\"b'\"\"\",'')\n",
    "df['cleaned_user_id'] = df['cleaned_user_id'].str.replace(\"\"\"'\"\"\",'')"
   ]
  },
  {
   "cell_type": "code",
   "execution_count": 28,
   "metadata": {},
   "outputs": [
    {
     "data": {
      "text/plain": [
       "0           Nuker_46\n",
       "2     davidchenpanda\n",
       "3        ajmikesmith\n",
       "4         doge2mooon\n",
       "5          Patsoup78\n",
       "6         BenSMeyers\n",
       "7         EtsyGrowth\n",
       "8        AMWebSchool\n",
       "9     Diego_Sisneros\n",
       "10      mojilo_manas\n",
       "Name: cleaned_user_id, dtype: object"
      ]
     },
     "execution_count": 28,
     "metadata": {},
     "output_type": "execute_result"
    }
   ],
   "source": [
    "df.cleaned_user_id.head(n=10)"
   ]
  },
  {
   "cell_type": "code",
   "execution_count": 29,
   "metadata": {},
   "outputs": [],
   "source": [
    "top_user_tweeted = df.groupby('cleaned_user_id').size().sort_values(ascending=False).reset_index()"
   ]
  },
  {
   "cell_type": "code",
   "execution_count": 30,
   "metadata": {},
   "outputs": [
    {
     "data": {
      "text/html": [
       "<div>\n",
       "<style scoped>\n",
       "    .dataframe tbody tr th:only-of-type {\n",
       "        vertical-align: middle;\n",
       "    }\n",
       "\n",
       "    .dataframe tbody tr th {\n",
       "        vertical-align: top;\n",
       "    }\n",
       "\n",
       "    .dataframe thead th {\n",
       "        text-align: right;\n",
       "    }\n",
       "</style>\n",
       "<table border=\"1\" class=\"dataframe\">\n",
       "  <thead>\n",
       "    <tr style=\"text-align: right;\">\n",
       "      <th></th>\n",
       "      <th>cleaned_user_id</th>\n",
       "      <th>0</th>\n",
       "    </tr>\n",
       "  </thead>\n",
       "  <tbody>\n",
       "    <tr>\n",
       "      <td>0</td>\n",
       "      <td>doyourememberwh</td>\n",
       "      <td>5</td>\n",
       "    </tr>\n",
       "    <tr>\n",
       "      <td>1</td>\n",
       "      <td>SVista_ES</td>\n",
       "      <td>4</td>\n",
       "    </tr>\n",
       "    <tr>\n",
       "      <td>2</td>\n",
       "      <td>GetAssistNet</td>\n",
       "      <td>2</td>\n",
       "    </tr>\n",
       "    <tr>\n",
       "      <td>3</td>\n",
       "      <td>srqagent</td>\n",
       "      <td>2</td>\n",
       "    </tr>\n",
       "    <tr>\n",
       "      <td>4</td>\n",
       "      <td>BDorador_SVES</td>\n",
       "      <td>2</td>\n",
       "    </tr>\n",
       "    <tr>\n",
       "      <td>...</td>\n",
       "      <td>...</td>\n",
       "      <td>...</td>\n",
       "    </tr>\n",
       "    <tr>\n",
       "      <td>90</td>\n",
       "      <td>arirangtvnews</td>\n",
       "      <td>1</td>\n",
       "    </tr>\n",
       "    <tr>\n",
       "      <td>91</td>\n",
       "      <td>auto_wilber</td>\n",
       "      <td>1</td>\n",
       "    </tr>\n",
       "    <tr>\n",
       "      <td>92</td>\n",
       "      <td>aztecwarrior78</td>\n",
       "      <td>1</td>\n",
       "    </tr>\n",
       "    <tr>\n",
       "      <td>93</td>\n",
       "      <td>biznessavenue</td>\n",
       "      <td>1</td>\n",
       "    </tr>\n",
       "    <tr>\n",
       "      <td>94</td>\n",
       "      <td>AMWebSchool</td>\n",
       "      <td>1</td>\n",
       "    </tr>\n",
       "  </tbody>\n",
       "</table>\n",
       "<p>95 rows × 2 columns</p>\n",
       "</div>"
      ],
      "text/plain": [
       "    cleaned_user_id  0\n",
       "0   doyourememberwh  5\n",
       "1         SVista_ES  4\n",
       "2      GetAssistNet  2\n",
       "3          srqagent  2\n",
       "4     BDorador_SVES  2\n",
       "..              ... ..\n",
       "90    arirangtvnews  1\n",
       "91      auto_wilber  1\n",
       "92   aztecwarrior78  1\n",
       "93    biznessavenue  1\n",
       "94      AMWebSchool  1\n",
       "\n",
       "[95 rows x 2 columns]"
      ]
     },
     "execution_count": 30,
     "metadata": {},
     "output_type": "execute_result"
    }
   ],
   "source": [
    "top_user_tweeted"
   ]
  },
  {
   "cell_type": "code",
   "execution_count": 31,
   "metadata": {},
   "outputs": [],
   "source": [
    "top_user_tweeted.columns = ['user_name','count']"
   ]
  },
  {
   "cell_type": "code",
   "execution_count": 32,
   "metadata": {},
   "outputs": [
    {
     "data": {
      "text/html": [
       "<div>\n",
       "<style scoped>\n",
       "    .dataframe tbody tr th:only-of-type {\n",
       "        vertical-align: middle;\n",
       "    }\n",
       "\n",
       "    .dataframe tbody tr th {\n",
       "        vertical-align: top;\n",
       "    }\n",
       "\n",
       "    .dataframe thead th {\n",
       "        text-align: right;\n",
       "    }\n",
       "</style>\n",
       "<table border=\"1\" class=\"dataframe\">\n",
       "  <thead>\n",
       "    <tr style=\"text-align: right;\">\n",
       "      <th></th>\n",
       "      <th>user_name</th>\n",
       "      <th>count</th>\n",
       "    </tr>\n",
       "  </thead>\n",
       "  <tbody>\n",
       "    <tr>\n",
       "      <td>0</td>\n",
       "      <td>doyourememberwh</td>\n",
       "      <td>5</td>\n",
       "    </tr>\n",
       "    <tr>\n",
       "      <td>1</td>\n",
       "      <td>SVista_ES</td>\n",
       "      <td>4</td>\n",
       "    </tr>\n",
       "    <tr>\n",
       "      <td>2</td>\n",
       "      <td>GetAssistNet</td>\n",
       "      <td>2</td>\n",
       "    </tr>\n",
       "    <tr>\n",
       "      <td>3</td>\n",
       "      <td>srqagent</td>\n",
       "      <td>2</td>\n",
       "    </tr>\n",
       "    <tr>\n",
       "      <td>4</td>\n",
       "      <td>BDorador_SVES</td>\n",
       "      <td>2</td>\n",
       "    </tr>\n",
       "    <tr>\n",
       "      <td>...</td>\n",
       "      <td>...</td>\n",
       "      <td>...</td>\n",
       "    </tr>\n",
       "    <tr>\n",
       "      <td>90</td>\n",
       "      <td>arirangtvnews</td>\n",
       "      <td>1</td>\n",
       "    </tr>\n",
       "    <tr>\n",
       "      <td>91</td>\n",
       "      <td>auto_wilber</td>\n",
       "      <td>1</td>\n",
       "    </tr>\n",
       "    <tr>\n",
       "      <td>92</td>\n",
       "      <td>aztecwarrior78</td>\n",
       "      <td>1</td>\n",
       "    </tr>\n",
       "    <tr>\n",
       "      <td>93</td>\n",
       "      <td>biznessavenue</td>\n",
       "      <td>1</td>\n",
       "    </tr>\n",
       "    <tr>\n",
       "      <td>94</td>\n",
       "      <td>AMWebSchool</td>\n",
       "      <td>1</td>\n",
       "    </tr>\n",
       "  </tbody>\n",
       "</table>\n",
       "<p>95 rows × 2 columns</p>\n",
       "</div>"
      ],
      "text/plain": [
       "          user_name  count\n",
       "0   doyourememberwh      5\n",
       "1         SVista_ES      4\n",
       "2      GetAssistNet      2\n",
       "3          srqagent      2\n",
       "4     BDorador_SVES      2\n",
       "..              ...    ...\n",
       "90    arirangtvnews      1\n",
       "91      auto_wilber      1\n",
       "92   aztecwarrior78      1\n",
       "93    biznessavenue      1\n",
       "94      AMWebSchool      1\n",
       "\n",
       "[95 rows x 2 columns]"
      ]
     },
     "execution_count": 32,
     "metadata": {},
     "output_type": "execute_result"
    }
   ],
   "source": [
    "top_user_tweeted"
   ]
  },
  {
   "cell_type": "code",
   "execution_count": 33,
   "metadata": {},
   "outputs": [
    {
     "data": {
      "image/png": "[encoded data removed]",
      "text/plain": [
       "<Figure size 1080x720 with 1 Axes>"
      ]
     },
     "metadata": {
      "needs_background": "light"
     },
     "output_type": "display_data"
    }
   ],
   "source": [
    "fig, ax = plt.subplots(figsize=(15, 10))\n",
    "\n",
    "# Plot horizontal bar graph\n",
    "top_user_tweeted.head(20).sort_values(by='count').plot.barh(x='user_name',\n",
    "                      y='count',\n",
    "                      ax=ax,\n",
    "                      color=\"purple\")\n",
    "\n",
    "ax.set_title(\"Top 20 twitter users who tweeted on APPL\")\n",
    "\n",
    "plt.show()"
   ]
  },
  {
   "cell_type": "markdown",
   "metadata": {},
   "source": [
    "<h1><center>Visualizing the data</center></h1>\n",
    "\n",
    "1. __<a href='#5' target='_self'>Count of daily tweets</a>__\n",
    "1. __<a href='#6' target='_self'>Count of daily user tweeting</a>__\n",
    "\n",
    "To visulaize the data on number of daily tweets and the number of users that are tweeting from the past 7 days, we need to first convert our timestamp column to datetime column instead of an object i.e. string column to easily seperate and the days,year and month from the datetime field, this will allows the pandas to check that the field id datetime since its smart enough to recognize it and then we can easily count the tweets frequency with the pandas groupby function. We can then plot the graph with frequency of tweets on the particular day.We plotted bar graphs to visluazie the tweet frequency on particular days and also we plotted another graph to visualise the number of users who tweeted on each day in last seven days.\n"
   ]
  },
  {
   "cell_type": "code",
   "execution_count": 34,
   "metadata": {},
   "outputs": [],
   "source": [
    "df['timestamp']= pd.to_datetime(df['timestamp'])"
   ]
  },
  {
   "cell_type": "code",
   "execution_count": 35,
   "metadata": {},
   "outputs": [
    {
     "name": "stdout",
     "output_type": "stream",
     "text": [
      "<class 'pandas.core.frame.DataFrame'>\n",
      "Int64Index: 107 entries, 0 to 236\n",
      "Data columns (total 9 columns):\n",
      "timestamp                            107 non-null datetime64[ns]\n",
      "tweet_text                           107 non-null object\n",
      "user_id                              107 non-null object\n",
      "tweet_id                             107 non-null float64\n",
      "hashtag                              107 non-null object\n",
      "cleaned_tweet_text                   107 non-null object\n",
      "cleaned_tweet_text_excluded_words    107 non-null object\n",
      "stemmed_data                         107 non-null object\n",
      "cleaned_user_id                      107 non-null object\n",
      "dtypes: datetime64[ns](1), float64(1), object(7)\n",
      "memory usage: 8.4+ KB\n"
     ]
    }
   ],
   "source": [
    "df.info()"
   ]
  },
  {
   "cell_type": "code",
   "execution_count": 36,
   "metadata": {},
   "outputs": [
    {
     "name": "stderr",
     "output_type": "stream",
     "text": [
      "C:\\Users\\kshdu\\AppData\\Roaming\\Python\\Python37\\site-packages\\ipykernel_launcher.py:1: FutureWarning: Interpreting tuple 'by' as a list of keys, rather than a single key. Use 'by=[...]' instead of 'by=(...)'. In the future, a tuple will always mean a single key.\n",
      "  \"\"\"Entry point for launching an IPython kernel.\n"
     ]
    }
   ],
   "source": [
    "daily_tweets = df.groupby((df['timestamp'].dt.year, df['timestamp'].dt.month, df['timestamp'].dt.day)).count()"
   ]
  },
  {
   "cell_type": "code",
   "execution_count": 37,
   "metadata": {},
   "outputs": [
    {
     "data": {
      "text/html": [
       "<div>\n",
       "<style scoped>\n",
       "    .dataframe tbody tr th:only-of-type {\n",
       "        vertical-align: middle;\n",
       "    }\n",
       "\n",
       "    .dataframe tbody tr th {\n",
       "        vertical-align: top;\n",
       "    }\n",
       "\n",
       "    .dataframe thead th {\n",
       "        text-align: right;\n",
       "    }\n",
       "</style>\n",
       "<table border=\"1\" class=\"dataframe\">\n",
       "  <thead>\n",
       "    <tr style=\"text-align: right;\">\n",
       "      <th></th>\n",
       "      <th></th>\n",
       "      <th></th>\n",
       "      <th>timestamp</th>\n",
       "      <th>tweet_text</th>\n",
       "      <th>user_id</th>\n",
       "      <th>tweet_id</th>\n",
       "      <th>hashtag</th>\n",
       "      <th>cleaned_tweet_text</th>\n",
       "      <th>cleaned_tweet_text_excluded_words</th>\n",
       "      <th>stemmed_data</th>\n",
       "      <th>cleaned_user_id</th>\n",
       "    </tr>\n",
       "    <tr>\n",
       "      <th>timestamp</th>\n",
       "      <th>timestamp</th>\n",
       "      <th>timestamp</th>\n",
       "      <th></th>\n",
       "      <th></th>\n",
       "      <th></th>\n",
       "      <th></th>\n",
       "      <th></th>\n",
       "      <th></th>\n",
       "      <th></th>\n",
       "      <th></th>\n",
       "      <th></th>\n",
       "    </tr>\n",
       "  </thead>\n",
       "  <tbody>\n",
       "    <tr>\n",
       "      <td rowspan=\"4\" valign=\"top\">2021</td>\n",
       "      <td rowspan=\"4\" valign=\"top\">3</td>\n",
       "      <td>1</td>\n",
       "      <td>3</td>\n",
       "      <td>3</td>\n",
       "      <td>3</td>\n",
       "      <td>3</td>\n",
       "      <td>3</td>\n",
       "      <td>3</td>\n",
       "      <td>3</td>\n",
       "      <td>3</td>\n",
       "      <td>3</td>\n",
       "    </tr>\n",
       "    <tr>\n",
       "      <td>2</td>\n",
       "      <td>53</td>\n",
       "      <td>53</td>\n",
       "      <td>53</td>\n",
       "      <td>53</td>\n",
       "      <td>53</td>\n",
       "      <td>53</td>\n",
       "      <td>53</td>\n",
       "      <td>53</td>\n",
       "      <td>53</td>\n",
       "    </tr>\n",
       "    <tr>\n",
       "      <td>3</td>\n",
       "      <td>29</td>\n",
       "      <td>29</td>\n",
       "      <td>29</td>\n",
       "      <td>29</td>\n",
       "      <td>29</td>\n",
       "      <td>29</td>\n",
       "      <td>29</td>\n",
       "      <td>29</td>\n",
       "      <td>29</td>\n",
       "    </tr>\n",
       "    <tr>\n",
       "      <td>4</td>\n",
       "      <td>22</td>\n",
       "      <td>22</td>\n",
       "      <td>22</td>\n",
       "      <td>22</td>\n",
       "      <td>22</td>\n",
       "      <td>22</td>\n",
       "      <td>22</td>\n",
       "      <td>22</td>\n",
       "      <td>22</td>\n",
       "    </tr>\n",
       "  </tbody>\n",
       "</table>\n",
       "</div>"
      ],
      "text/plain": [
       "                               timestamp  tweet_text  user_id  tweet_id  \\\n",
       "timestamp timestamp timestamp                                             \n",
       "2021      3         1                  3           3        3         3   \n",
       "                    2                 53          53       53        53   \n",
       "                    3                 29          29       29        29   \n",
       "                    4                 22          22       22        22   \n",
       "\n",
       "                               hashtag  cleaned_tweet_text  \\\n",
       "timestamp timestamp timestamp                                \n",
       "2021      3         1                3                   3   \n",
       "                    2               53                  53   \n",
       "                    3               29                  29   \n",
       "                    4               22                  22   \n",
       "\n",
       "                               cleaned_tweet_text_excluded_words  \\\n",
       "timestamp timestamp timestamp                                      \n",
       "2021      3         1                                          3   \n",
       "                    2                                         53   \n",
       "                    3                                         29   \n",
       "                    4                                         22   \n",
       "\n",
       "                               stemmed_data  cleaned_user_id  \n",
       "timestamp timestamp timestamp                                 \n",
       "2021      3         1                     3                3  \n",
       "                    2                    53               53  \n",
       "                    3                    29               29  \n",
       "                    4                    22               22  "
      ]
     },
     "execution_count": 37,
     "metadata": {},
     "output_type": "execute_result"
    }
   ],
   "source": [
    "daily_tweets"
   ]
  },
  {
   "cell_type": "code",
   "execution_count": 38,
   "metadata": {},
   "outputs": [
    {
     "data": {
      "image/png": "[encoded data removed]",
      "text/plain": [
       "<Figure size 1080x720 with 1 Axes>"
      ]
     },
     "metadata": {
      "needs_background": "light"
     },
     "output_type": "display_data"
    }
   ],
   "source": [
    "fig, ax = plt.subplots(figsize=(15, 10))\n",
    "daily_tweets.timestamp.plot.bar(x ='date', y ='number of tweets',ax=ax,\n",
    "                      color=\"purple\")\n",
    "plt.xticks(rotation=0)\n",
    "ax.set_title(\"Tweets by daily for last 7 days\")\n",
    "plt.show()"
   ]
  },
  {
   "cell_type": "code",
   "execution_count": 39,
   "metadata": {},
   "outputs": [
    {
     "data": {
      "image/png": "[encoded data removed]",
      "text/plain": [
       "<Figure size 1080x720 with 1 Axes>"
      ]
     },
     "metadata": {
      "needs_background": "light"
     },
     "output_type": "display_data"
    }
   ],
   "source": [
    "fig, ax = plt.subplots(figsize=(15, 10))\n",
    "daily_tweets.user_id.plot.bar(x ='Date', y ='number of tweets',ax=ax,\n",
    "                      color=\"purple\")\n",
    "plt.xticks(rotation=0)\n",
    "ax.set_title(\"Count of numbers of users tweeting daily\")\n",
    "plt.show()"
   ]
  },
  {
   "cell_type": "markdown",
   "metadata": {},
   "source": [
    "1. __<a href='#5' target='_self'>Refrences</a>__\n",
    "    1. __<a href='#5A' target='_self'>https://www.python.org/doc/</a>__\n",
    "    1. __<a href='#5B' target='_self'>https://dev.twitter.com/overview/documentation</a>__\n",
    "    1. __<a href='#5C' target='_self'>https://www.kaggle.com/</a>__"
   ]
  },
  {
   "cell_type": "markdown",
   "metadata": {},
   "source": [
    "<h1><center>Conclusion</center></h1>\n",
    "\n",
    "Learned basics of scraping data from twitter and how to store it into different file formats, how to fetch data from twitter.Challenges faced: retrieving data from twitter with tweepy since the rate limit is quiet less for single call and the rate limit hits and we had to wait for 15 minutes to again scrape data from twitter. While researching this issue, came accross an intresting module which is built especially for this and with this module you can easily retrieve data from twitter without having to use your credentails. The module is called twint and this information was found while researching and studying on Kaggle, the link is: - https://github.com/twintproject/twint\n",
    "\n",
    "Gained a very good bit of experince in the following:-\n",
    "1. __<a href='#1' target='_self'>Collecting data from Twitter using Twitter API</a>__\n",
    "1. __<a href='#2' target='_self'>Data storage to store the data and query</a>__\n",
    "1. __<a href='#3' target='_self'>Collecting real-time data</a>__\n",
    "1. __<a href='#4' target='_self'>Data cleaning</a>__\n",
    "1. __<a href='#5' target='_self'>Visualizing the data</a>__"
   ]
  },
  {
   "cell_type": "code",
   "execution_count": null,
   "metadata": {},
   "outputs": [],
   "source": []
  }
 ],
 "metadata": {
  "kernelspec": {
   "display_name": "Python 3",
   "language": "python",
   "name": "python3"
  },
  "language_info": {
   "codemirror_mode": {
    "name": "ipython",
    "version": 3
   },
   "file_extension": ".py",
   "mimetype": "text/x-python",
   "name": "python",
   "nbconvert_exporter": "python",
   "pygments_lexer": "ipython3",
   "version": "3.7.4"
  }
 },
 "nbformat": 4,
 "nbformat_minor": 2
}
